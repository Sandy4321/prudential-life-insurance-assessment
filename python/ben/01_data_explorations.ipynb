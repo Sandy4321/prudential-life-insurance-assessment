{
 "cells": [
  {
   "cell_type": "markdown",
   "metadata": {},
   "source": [
    "# First data explorations & messy transformations"
   ]
  },
  {
   "cell_type": "code",
   "execution_count": 1,
   "metadata": {
    "collapsed": true
   },
   "outputs": [],
   "source": [
    "import matplotlib.pyplot as plt\n",
    "import seaborn\n",
    "seaborn.set()  # this makes my plots pretty\n",
    "%matplotlib inline\n",
    "\n",
    "import numpy as np\n",
    "import pandas as pd\n",
    "\n",
    "from sklearn.ensemble import RandomForestClassifier\n",
    "from sklearn import cross_validation as cv\n",
    "\n",
    "from skll import metrics\n",
    "from sklearn.metrics import make_scorer\n",
    "\n",
    "import data_utils"
   ]
  },
  {
   "cell_type": "code",
   "execution_count": 2,
   "metadata": {
    "collapsed": false
   },
   "outputs": [],
   "source": [
    "train = pd.read_csv('../../data/train.csv').drop(['Id'], axis=1)\n",
    "test = pd.read_csv('../../data/test.csv')"
   ]
  },
  {
   "cell_type": "code",
   "execution_count": 3,
   "metadata": {
    "collapsed": false
   },
   "outputs": [],
   "source": [
    "train = pd.get_dummies(train, columns=['Product_Info_2'])\n",
    "test = pd.get_dummies(test, columns=['Product_Info_2'])"
   ]
  },
  {
   "cell_type": "code",
   "execution_count": 4,
   "metadata": {
    "collapsed": true
   },
   "outputs": [],
   "source": [
    "# fill NaN values for Familiy_Hist_2-5 with means\n",
    "for i in range(2, 6):\n",
    "    col = 'Family_Hist_%i' % i\n",
    "    train[col] = train[col].fillna(train[col].mean())\n",
    "    test[col] = test[col].fillna(test[col].mean())\n",
    "# and everything else with 0\n",
    "train = train.fillna(0)\n",
    "test = test.fillna(0)"
   ]
  },
  {
   "cell_type": "markdown",
   "metadata": {},
   "source": [
    "## Train a basic Random Forest"
   ]
  },
  {
   "cell_type": "code",
   "execution_count": 5,
   "metadata": {
    "collapsed": true
   },
   "outputs": [],
   "source": [
    "kappa_scorer = make_scorer(metrics.kappa, weights='quadratic')"
   ]
  },
  {
   "cell_type": "code",
   "execution_count": 6,
   "metadata": {
    "collapsed": false
   },
   "outputs": [
    {
     "name": "stdout",
     "output_type": "stream",
     "text": [
      "[ 0.49593096  0.50901067  0.5108705   0.49834324  0.49726198]\n",
      "(0.50228346962076531, 0.0063259403571169865)\n"
     ]
    }
   ],
   "source": [
    "X_train = train.drop(['Response'], axis=1).values\n",
    "y_train = train.Response.values\n",
    "rfr_params = {'n_estimators': 300, 'random_state': 42, 'n_jobs': -1}\n",
    "model = RandomForestClassifier(**rfr_params)\n",
    "folds = cv.KFold(n=len(y_train), n_folds=5, shuffle=True, random_state=42)\n",
    "scores = cv.cross_val_score(model, X_train, y_train, cv=folds, scoring=kappa_scorer, n_jobs=-1)\n",
    "print(scores)\n",
    "print(scores.mean(), scores.std())"
   ]
  },
  {
   "cell_type": "markdown",
   "metadata": {},
   "source": [
    "### Predict testdata"
   ]
  },
  {
   "cell_type": "code",
   "execution_count": 7,
   "metadata": {
    "collapsed": true
   },
   "outputs": [],
   "source": [
    "X_test = test.drop(['Id'], axis=1).values\n",
    "rfr_params = {'n_estimators': 300, 'random_state': 42, 'n_jobs': -1}\n",
    "model = RandomForestClassifier(**rfr_params)\n",
    "model.fit(X_train, y_train)\n",
    "y_pred = model.predict(X_test)"
   ]
  },
  {
   "cell_type": "code",
   "execution_count": 8,
   "metadata": {
    "collapsed": true
   },
   "outputs": [],
   "source": [
    "data_utils.write_submission(y_pred, test)"
   ]
  },
  {
   "cell_type": "markdown",
   "metadata": {},
   "source": [
    "### Scores\n",
    "\n",
    "**CV**\n",
    "[ 0.49593096  0.50901067  0.5108705   0.49834324  0.49726198] (0.50228346962076531, 0.0063259403571169865)\n",
    "\n",
    "**LB**\n",
    "0.51081"
   ]
  },
  {
   "cell_type": "markdown",
   "metadata": {},
   "source": [
    "## Some plots to get a feel how well the basic random forest does\n",
    "### Train on a 80% training set of our training examples"
   ]
  },
  {
   "cell_type": "code",
   "execution_count": 9,
   "metadata": {
    "collapsed": false
   },
   "outputs": [],
   "source": [
    "X = train.drop(['Response'], axis=1).values\n",
    "y = train.Response.values\n",
    "X_train, X_test, y_train, y_test = cv.train_test_split(X, y, stratify=y, test_size=0.2, random_state=42)\n",
    "\n",
    "rfr_params = {'n_estimators': 300, 'random_state': 42, 'n_jobs': -1}\n",
    "model = RandomForestClassifier(**rfr_params)\n",
    "model.fit(X_train, y_train)\n",
    "y_pred = model.predict(X_test)"
   ]
  },
  {
   "cell_type": "markdown",
   "metadata": {},
   "source": [
    "### Plot histogram of classes in predictions and truths"
   ]
  },
  {
   "cell_type": "code",
   "execution_count": 10,
   "metadata": {
    "collapsed": false
   },
   "outputs": [
    {
     "data": {
      "text/plain": [
       "<matplotlib.legend.Legend at 0x1156263d0>"
      ]
     },
     "execution_count": 10,
     "metadata": {},
     "output_type": "execute_result"
    },
    {
     "data": {
      "image/png": "[encoded data removed]",
      "text/plain": [
       "<matplotlib.figure.Figure at 0x11716d410>"
      ]
     },
     "metadata": {},
     "output_type": "display_data"
    }
   ],
   "source": [
    "plt.figure(figsize=(10,7))\n",
    "plt.title('Relative Frequency of Classes')\n",
    "plt.hist(y_test, bins=8, normed=True, alpha=0.5, label='Truth')\n",
    "plt.hist(y_pred, bins=8, normed=True, alpha=0.5, label='Predictions')\n",
    "plt.legend()"
   ]
  },
  {
   "cell_type": "markdown",
   "metadata": {},
   "source": [
    "So right now the model tends to predict 6 and 7 way too often and 1 and 2 way too rarely. Which also can be seen in the next plot. When the model makes a mistake it rather picks classes that are too high."
   ]
  },
  {
   "cell_type": "code",
   "execution_count": 11,
   "metadata": {
    "collapsed": false
   },
   "outputs": [
    {
     "data": {
      "text/plain": [
       "(array([ 0.00117273,  0.00306715,  0.00820914,  0.00992314,  0.00983293,\n",
       "         0.02038754,  0.0635081 ,  0.59818497,  0.10897413,  0.06928156,\n",
       "         0.03418973,  0.04465413,  0.03806878,  0.03635478,  0.02561975]),\n",
       " array([-7.        , -6.06666667, -5.13333333, -4.2       , -3.26666667,\n",
       "        -2.33333333, -1.4       , -0.46666667,  0.46666667,  1.4       ,\n",
       "         2.33333333,  3.26666667,  4.2       ,  5.13333333,  6.06666667,  7.        ]),\n",
       " <a list of 15 Patch objects>)"
      ]
     },
     "execution_count": 11,
     "metadata": {},
     "output_type": "execute_result"
    },
    {
     "data": {
      "image/png": "[encoded data removed]",
      "text/plain": [
       "<matplotlib.figure.Figure at 0x1147a6910>"
      ]
     },
     "metadata": {},
     "output_type": "display_data"
    }
   ],
   "source": [
    "plt.figure(figsize=(10,7))\n",
    "start = 0\n",
    "end = 500\n",
    "plt.hist(y_pred-y_test, bins=15, normed=True)"
   ]
  },
  {
   "cell_type": "markdown",
   "metadata": {},
   "source": [
    "### Feature importance (RandomForest)\n",
    "List the 50 most important features (acording to RF)"
   ]
  },
  {
   "cell_type": "code",
   "execution_count": 12,
   "metadata": {
    "collapsed": false
   },
   "outputs": [
    {
     "data": {
      "text/html": [
       "<div>\n",
       "<table border=\"1\" class=\"dataframe\">\n",
       "  <thead>\n",
       "    <tr style=\"text-align: right;\">\n",
       "      <th></th>\n",
       "      <th>Feature</th>\n",
       "      <th>Importance</th>\n",
       "    </tr>\n",
       "  </thead>\n",
       "  <tbody>\n",
       "    <tr>\n",
       "      <th>9</th>\n",
       "      <td>BMI</td>\n",
       "      <td>0.091998</td>\n",
       "    </tr>\n",
       "    <tr>\n",
       "      <th>8</th>\n",
       "      <td>Wt</td>\n",
       "      <td>0.065539</td>\n",
       "    </tr>\n",
       "    <tr>\n",
       "      <th>6</th>\n",
       "      <td>Ins_Age</td>\n",
       "      <td>0.040944</td>\n",
       "    </tr>\n",
       "    <tr>\n",
       "      <th>2</th>\n",
       "      <td>Product_Info_4</td>\n",
       "      <td>0.039276</td>\n",
       "    </tr>\n",
       "    <tr>\n",
       "      <th>10</th>\n",
       "      <td>Employment_Info_1</td>\n",
       "      <td>0.036513</td>\n",
       "    </tr>\n",
       "    <tr>\n",
       "      <th>7</th>\n",
       "      <td>Ht</td>\n",
       "      <td>0.031882</td>\n",
       "    </tr>\n",
       "    <tr>\n",
       "      <th>37</th>\n",
       "      <td>Medical_History_2</td>\n",
       "      <td>0.030667</td>\n",
       "    </tr>\n",
       "    <tr>\n",
       "      <th>34</th>\n",
       "      <td>Family_Hist_4</td>\n",
       "      <td>0.030059</td>\n",
       "    </tr>\n",
       "    <tr>\n",
       "      <th>36</th>\n",
       "      <td>Medical_History_1</td>\n",
       "      <td>0.029745</td>\n",
       "    </tr>\n",
       "    <tr>\n",
       "      <th>15</th>\n",
       "      <td>Employment_Info_6</td>\n",
       "      <td>0.028929</td>\n",
       "    </tr>\n",
       "    <tr>\n",
       "      <th>39</th>\n",
       "      <td>Medical_History_4</td>\n",
       "      <td>0.027393</td>\n",
       "    </tr>\n",
       "    <tr>\n",
       "      <th>33</th>\n",
       "      <td>Family_Hist_3</td>\n",
       "      <td>0.025389</td>\n",
       "    </tr>\n",
       "    <tr>\n",
       "      <th>32</th>\n",
       "      <td>Family_Hist_2</td>\n",
       "      <td>0.024266</td>\n",
       "    </tr>\n",
       "    <tr>\n",
       "      <th>27</th>\n",
       "      <td>Insurance_History_5</td>\n",
       "      <td>0.021839</td>\n",
       "    </tr>\n",
       "    <tr>\n",
       "      <th>18</th>\n",
       "      <td>InsuredInfo_3</td>\n",
       "      <td>0.021394</td>\n",
       "    </tr>\n",
       "    <tr>\n",
       "      <th>50</th>\n",
       "      <td>Medical_History_15</td>\n",
       "      <td>0.020879</td>\n",
       "    </tr>\n",
       "    <tr>\n",
       "      <th>35</th>\n",
       "      <td>Family_Hist_5</td>\n",
       "      <td>0.019446</td>\n",
       "    </tr>\n",
       "    <tr>\n",
       "      <th>91</th>\n",
       "      <td>Medical_Keyword_15</td>\n",
       "      <td>0.016624</td>\n",
       "    </tr>\n",
       "    <tr>\n",
       "      <th>11</th>\n",
       "      <td>Employment_Info_2</td>\n",
       "      <td>0.016435</td>\n",
       "    </tr>\n",
       "    <tr>\n",
       "      <th>58</th>\n",
       "      <td>Medical_History_23</td>\n",
       "      <td>0.016358</td>\n",
       "    </tr>\n",
       "    <tr>\n",
       "      <th>31</th>\n",
       "      <td>Family_Hist_1</td>\n",
       "      <td>0.009443</td>\n",
       "    </tr>\n",
       "    <tr>\n",
       "      <th>21</th>\n",
       "      <td>InsuredInfo_6</td>\n",
       "      <td>0.009322</td>\n",
       "    </tr>\n",
       "    <tr>\n",
       "      <th>13</th>\n",
       "      <td>Employment_Info_4</td>\n",
       "      <td>0.009220</td>\n",
       "    </tr>\n",
       "    <tr>\n",
       "      <th>29</th>\n",
       "      <td>Insurance_History_8</td>\n",
       "      <td>0.008746</td>\n",
       "    </tr>\n",
       "    <tr>\n",
       "      <th>79</th>\n",
       "      <td>Medical_Keyword_3</td>\n",
       "      <td>0.008693</td>\n",
       "    </tr>\n",
       "    <tr>\n",
       "      <th>76</th>\n",
       "      <td>Medical_History_41</td>\n",
       "      <td>0.008133</td>\n",
       "    </tr>\n",
       "    <tr>\n",
       "      <th>26</th>\n",
       "      <td>Insurance_History_4</td>\n",
       "      <td>0.007425</td>\n",
       "    </tr>\n",
       "    <tr>\n",
       "      <th>44</th>\n",
       "      <td>Medical_History_9</td>\n",
       "      <td>0.007365</td>\n",
       "    </tr>\n",
       "    <tr>\n",
       "      <th>141</th>\n",
       "      <td>Product_Info_2_D3</td>\n",
       "      <td>0.007221</td>\n",
       "    </tr>\n",
       "    <tr>\n",
       "      <th>16</th>\n",
       "      <td>InsuredInfo_1</td>\n",
       "      <td>0.007118</td>\n",
       "    </tr>\n",
       "    <tr>\n",
       "      <th>64</th>\n",
       "      <td>Medical_History_29</td>\n",
       "      <td>0.006987</td>\n",
       "    </tr>\n",
       "    <tr>\n",
       "      <th>4</th>\n",
       "      <td>Product_Info_6</td>\n",
       "      <td>0.006452</td>\n",
       "    </tr>\n",
       "    <tr>\n",
       "      <th>74</th>\n",
       "      <td>Medical_History_39</td>\n",
       "      <td>0.006424</td>\n",
       "    </tr>\n",
       "    <tr>\n",
       "      <th>71</th>\n",
       "      <td>Medical_History_36</td>\n",
       "      <td>0.006307</td>\n",
       "    </tr>\n",
       "    <tr>\n",
       "      <th>69</th>\n",
       "      <td>Medical_History_34</td>\n",
       "      <td>0.006120</td>\n",
       "    </tr>\n",
       "    <tr>\n",
       "      <th>28</th>\n",
       "      <td>Insurance_History_7</td>\n",
       "      <td>0.005867</td>\n",
       "    </tr>\n",
       "    <tr>\n",
       "      <th>51</th>\n",
       "      <td>Medical_History_16</td>\n",
       "      <td>0.005788</td>\n",
       "    </tr>\n",
       "    <tr>\n",
       "      <th>19</th>\n",
       "      <td>InsuredInfo_4</td>\n",
       "      <td>0.005689</td>\n",
       "    </tr>\n",
       "    <tr>\n",
       "      <th>60</th>\n",
       "      <td>Medical_History_25</td>\n",
       "      <td>0.005667</td>\n",
       "    </tr>\n",
       "    <tr>\n",
       "      <th>59</th>\n",
       "      <td>Medical_History_24</td>\n",
       "      <td>0.005659</td>\n",
       "    </tr>\n",
       "    <tr>\n",
       "      <th>23</th>\n",
       "      <td>Insurance_History_1</td>\n",
       "      <td>0.005605</td>\n",
       "    </tr>\n",
       "    <tr>\n",
       "      <th>139</th>\n",
       "      <td>Product_Info_2_D1</td>\n",
       "      <td>0.005545</td>\n",
       "    </tr>\n",
       "    <tr>\n",
       "      <th>1</th>\n",
       "      <td>Product_Info_3</td>\n",
       "      <td>0.005473</td>\n",
       "    </tr>\n",
       "    <tr>\n",
       "      <th>142</th>\n",
       "      <td>Product_Info_2_D4</td>\n",
       "      <td>0.005444</td>\n",
       "    </tr>\n",
       "    <tr>\n",
       "      <th>61</th>\n",
       "      <td>Medical_History_26</td>\n",
       "      <td>0.005370</td>\n",
       "    </tr>\n",
       "    <tr>\n",
       "      <th>48</th>\n",
       "      <td>Medical_History_13</td>\n",
       "      <td>0.005289</td>\n",
       "    </tr>\n",
       "    <tr>\n",
       "      <th>140</th>\n",
       "      <td>Product_Info_2_D2</td>\n",
       "      <td>0.004834</td>\n",
       "    </tr>\n",
       "    <tr>\n",
       "      <th>65</th>\n",
       "      <td>Medical_History_30</td>\n",
       "      <td>0.004795</td>\n",
       "    </tr>\n",
       "    <tr>\n",
       "      <th>30</th>\n",
       "      <td>Insurance_History_9</td>\n",
       "      <td>0.004786</td>\n",
       "    </tr>\n",
       "    <tr>\n",
       "      <th>43</th>\n",
       "      <td>Medical_History_8</td>\n",
       "      <td>0.004684</td>\n",
       "    </tr>\n",
       "  </tbody>\n",
       "</table>\n",
       "</div>"
      ],
      "text/plain": [
       "                 Feature  Importance\n",
       "9                    BMI    0.091998\n",
       "8                     Wt    0.065539\n",
       "6                Ins_Age    0.040944\n",
       "2         Product_Info_4    0.039276\n",
       "10     Employment_Info_1    0.036513\n",
       "7                     Ht    0.031882\n",
       "37     Medical_History_2    0.030667\n",
       "34         Family_Hist_4    0.030059\n",
       "36     Medical_History_1    0.029745\n",
       "15     Employment_Info_6    0.028929\n",
       "39     Medical_History_4    0.027393\n",
       "33         Family_Hist_3    0.025389\n",
       "32         Family_Hist_2    0.024266\n",
       "27   Insurance_History_5    0.021839\n",
       "18         InsuredInfo_3    0.021394\n",
       "50    Medical_History_15    0.020879\n",
       "35         Family_Hist_5    0.019446\n",
       "91    Medical_Keyword_15    0.016624\n",
       "11     Employment_Info_2    0.016435\n",
       "58    Medical_History_23    0.016358\n",
       "31         Family_Hist_1    0.009443\n",
       "21         InsuredInfo_6    0.009322\n",
       "13     Employment_Info_4    0.009220\n",
       "29   Insurance_History_8    0.008746\n",
       "79     Medical_Keyword_3    0.008693\n",
       "76    Medical_History_41    0.008133\n",
       "26   Insurance_History_4    0.007425\n",
       "44     Medical_History_9    0.007365\n",
       "141    Product_Info_2_D3    0.007221\n",
       "16         InsuredInfo_1    0.007118\n",
       "64    Medical_History_29    0.006987\n",
       "4         Product_Info_6    0.006452\n",
       "74    Medical_History_39    0.006424\n",
       "71    Medical_History_36    0.006307\n",
       "69    Medical_History_34    0.006120\n",
       "28   Insurance_History_7    0.005867\n",
       "51    Medical_History_16    0.005788\n",
       "19         InsuredInfo_4    0.005689\n",
       "60    Medical_History_25    0.005667\n",
       "59    Medical_History_24    0.005659\n",
       "23   Insurance_History_1    0.005605\n",
       "139    Product_Info_2_D1    0.005545\n",
       "1         Product_Info_3    0.005473\n",
       "142    Product_Info_2_D4    0.005444\n",
       "61    Medical_History_26    0.005370\n",
       "48    Medical_History_13    0.005289\n",
       "140    Product_Info_2_D2    0.004834\n",
       "65    Medical_History_30    0.004795\n",
       "30   Insurance_History_9    0.004786\n",
       "43     Medical_History_8    0.004684"
      ]
     },
     "execution_count": 12,
     "metadata": {},
     "output_type": "execute_result"
    }
   ],
   "source": [
    "imp = pd.Series(model.feature_importances_, name='Importance')\n",
    "names = pd.Series(train.drop(['Response'], axis=1).columns, name='Feature')\n",
    "pd.concat([names, imp], axis=1).sort_values('Importance', ascending=False)[:50]"
   ]
  },
  {
   "cell_type": "markdown",
   "metadata": {},
   "source": [
    "## histograms and scatterplots of features\n",
    "(deactivated)"
   ]
  },
  {
   "cell_type": "raw",
   "metadata": {},
   "source": [
    "for c in train.columns:\n",
    "    try:\n",
    "        figure = plt.figure()\n",
    "        plt.title(c)\n",
    "        train[c].hist()\n",
    "    except TypeError:\n",
    "        print('error for column %s' % c)"
   ]
  },
  {
   "cell_type": "raw",
   "metadata": {},
   "source": [
    "for c in train.columns:\n",
    "    try:\n",
    "        figure = plt.figure()\n",
    "        plt.title(c)\n",
    "        plt.scatter(x=train[c].values, y=train.Response.values, alpha=0.1)\n",
    "    except (TypeError, ValueError):\n",
    "        print('error for column %s' % c)"
   ]
  }
 ],
 "metadata": {
  "kernelspec": {
   "display_name": "Python 2",
   "language": "python",
   "name": "python2"
  },
  "language_info": {
   "codemirror_mode": {
    "name": "ipython",
    "version": 2
   },
   "file_extension": ".py",
   "mimetype": "text/x-python",
   "name": "python",
   "nbconvert_exporter": "python",
   "pygments_lexer": "ipython2",
   "version": "2.7.10"
  }
 },
 "nbformat": 4,
 "nbformat_minor": 0
}
