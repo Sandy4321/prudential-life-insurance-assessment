{
 "cells": [
  {
   "cell_type": "markdown",
   "metadata": {},
   "source": [
    "# First data explorations"
   ]
  },
  {
   "cell_type": "code",
   "execution_count": 122,
   "metadata": {
    "collapsed": true
   },
   "outputs": [],
   "source": [
    "import matplotlib.pyplot as plt\n",
    "import seaborn\n",
    "seaborn.set()  # this makes my plots pretty\n",
    "%matplotlib inline\n",
    "\n",
    "import numpy as np\n",
    "import pandas as pd\n",
    "\n",
    "from sklearn.ensemble import RandomForestClassifier\n",
    "from sklearn import cross_validation as cv\n",
    "\n",
    "from skll import metrics\n",
    "from sklearn.metrics import make_scorer\n",
    "\n",
    "import data_utils"
   ]
  },
  {
   "cell_type": "code",
   "execution_count": 103,
   "metadata": {
    "collapsed": true
   },
   "outputs": [],
   "source": [
    "kappa_scorer = make_scorer(metrics.kappa, weights='quadratic')"
   ]
  },
  {
   "cell_type": "code",
   "execution_count": 108,
   "metadata": {
    "collapsed": false
   },
   "outputs": [],
   "source": [
    "train = pd.read_csv('../../data/train.csv').drop(['Id'], axis=1)\n",
    "test = pd.read_csv('../../data/test.csv')"
   ]
  },
  {
   "cell_type": "code",
   "execution_count": 109,
   "metadata": {
    "collapsed": false
   },
   "outputs": [],
   "source": [
    "train = pd.get_dummies(train, columns=['Product_Info_2'])\n",
    "test = pd.get_dummies(test, columns=['Product_Info_2'])"
   ]
  },
  {
   "cell_type": "code",
   "execution_count": null,
   "metadata": {
    "collapsed": true
   },
   "outputs": [],
   "source": [
    "# fill NaN values for Familiy_Hist_2-5 with means\n",
    "for i in range(2, 6):\n",
    "    col = 'Family_Hist_%i' % i\n",
    "    train[col] = train[col].fillna(train[col].mean())\n",
    "    test[col] = test[col].fillna(test[col].mean())\n",
    "# and everything else with 0\n",
    "train = train.fillna(0)\n",
    "test = test.fillna(0)"
   ]
  },
  {
   "cell_type": "markdown",
   "metadata": {},
   "source": [
    "## Train a basic Random Forest"
   ]
  },
  {
   "cell_type": "code",
   "execution_count": 105,
   "metadata": {
    "collapsed": false
   },
   "outputs": [
    {
     "name": "stdout",
     "output_type": "stream",
     "text": [
      "[ 0.49724135  0.49356778  0.50104413  0.50045855  0.49156269]\n",
      "(0.49677490098804872, 0.003727357719121879)\n"
     ]
    }
   ],
   "source": [
    "X_train = train.drop(['Response'], axis=1).values\n",
    "y_train = train.Response.values\n",
    "rfr_params = {'n_estimators': 15, 'random_state': 42, 'n_jobs': -1}\n",
    "model = RandomForestClassifier(**rfr_params)\n",
    "folds = cv.KFold(n=len(y_train), n_folds=5, shuffle=True, random_state=42)\n",
    "scores = cv.cross_val_score(model, X_train, y_train, cv=folds, scoring=kappa_scorer, n_jobs=-1)\n",
    "print(scores)\n",
    "print(scores.mean(), scores.std())"
   ]
  },
  {
   "cell_type": "markdown",
   "metadata": {},
   "source": [
    "### Predict testdata"
   ]
  },
  {
   "cell_type": "code",
   "execution_count": 125,
   "metadata": {
    "collapsed": true
   },
   "outputs": [],
   "source": [
    "X_test = test.drop(['Id'], axis=1).values\n",
    "rfr_params = {'n_estimators': 100, 'random_state': 42, 'n_jobs': -1}\n",
    "model = RandomForestClassifier(**rfr_params)\n",
    "model.fit(X_train, y_train)\n",
    "y_pred = model.predict(X_test)"
   ]
  },
  {
   "cell_type": "code",
   "execution_count": 126,
   "metadata": {
    "collapsed": true
   },
   "outputs": [],
   "source": [
    "data_utils.write_submission(y_pred, test)"
   ]
  },
  {
   "cell_type": "markdown",
   "metadata": {},
   "source": [
    "## histograms and scatterplots"
   ]
  },
  {
   "cell_type": "raw",
   "metadata": {},
   "source": [
    "for c in train.columns:\n",
    "    try:\n",
    "        figure = plt.figure()\n",
    "        plt.title(c)\n",
    "        train[c].hist()\n",
    "    except TypeError:\n",
    "        print('error for column %s' % c)"
   ]
  },
  {
   "cell_type": "raw",
   "metadata": {},
   "source": [
    "for c in train.columns:\n",
    "    try:\n",
    "        figure = plt.figure()\n",
    "        plt.title(c)\n",
    "        plt.scatter(x=train[c].values, y=train.Response.values, alpha=0.1)\n",
    "    except (TypeError, ValueError):\n",
    "        print('error for column %s' % c)"
   ]
  }
 ],
 "metadata": {
  "kernelspec": {
   "display_name": "Python 2",
   "language": "python",
   "name": "python2"
  },
  "language_info": {
   "codemirror_mode": {
    "name": "ipython",
    "version": 2
   },
   "file_extension": ".py",
   "mimetype": "text/x-python",
   "name": "python",
   "nbconvert_exporter": "python",
   "pygments_lexer": "ipython2",
   "version": "2.7.10"
  }
 },
 "nbformat": 4,
 "nbformat_minor": 0
}
